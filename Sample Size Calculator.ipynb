{
 "cells": [
  {
   "cell_type": "markdown",
   "metadata": {},
   "source": [
    "# Sample Size Calculator"
   ]
  },
  {
   "cell_type": "markdown",
   "metadata": {},
   "source": [
    "<img src=\"https://i.imgur.com/bds1ESh.png\">"
   ]
  },
  {
   "cell_type": "code",
   "execution_count": 56,
   "metadata": {
    "scrolled": true
   },
   "outputs": [],
   "source": [
    "from scipy.stats import norm\n",
    "import matplotlib.pyplot as plt\n",
    "import numpy as np\n",
    "\n",
    "def samplesize(alpha,beta,p0,effect_size):\n",
    "    q0=abs(1-p0)\n",
    "    p1=p0*(1+effect_size)\n",
    "    q1=abs(1-p1)\n",
    "    p1q1=p1*q1\n",
    "    p0q0=p0*q0\n",
    "    N=(p0q0*(norm.ppf(1-alpha)+norm.ppf(1-beta)*(p1q1/p0q0)**0.5)**2)/(p1-p0)**2\n",
    "    return N"
   ]
  },
  {
   "cell_type": "markdown",
   "metadata": {},
   "source": [
    "Create graph for sample size needed by expected effect size:"
   ]
  },
  {
   "cell_type": "code",
   "execution_count": 59,
   "metadata": {},
   "outputs": [
    {
     "data": {
      "image/png": "[encoded data removed]",
      "text/plain": [
       "<matplotlib.figure.Figure at 0x1143c8280f0>"
      ]
     },
     "metadata": {},
     "output_type": "display_data"
    }
   ],
   "source": [
    "sample_effect_size = np.linspace(.01,.1,10)\n",
    "sample_sizes=[]\n",
    "for effect_size in sample_effect_size:\n",
    "    sample_sizes.append(samplesize(.05,.2,.662,effect_size))\n",
    "    #print(samplesize(.05,.2,.662,effect_size))\n",
    "\n",
    "y_pos=np.arange(len(sample_effect_size))\n",
    "bars=plt.bar(y_pos, sample_sizes, align='center', alpha=0.8)\n",
    "plt.xticks(y_pos, sample_effect_size)\n",
    "plt.ylabel('Sample Size')\n",
    "plt.title('Sample Size Needed by Expected Effect Size')\n",
    "\n",
    "for bar in bars:\n",
    "    plt.gca().text(bar.get_x() + bar.get_width()/2, bar.get_height() - 5, str(int(bar.get_height())), \n",
    "                 ha='center', color='b', fontsize=11)\n",
    "plt.show()"
   ]
  },
  {
   "cell_type": "markdown",
   "metadata": {},
   "source": [
    "Example of Alpha and Beta/Power using confidence intervals:\n",
    "\n",
    "Alpha: The probability of a type-I error -- finding a difference when a difference does not exist. Most medical literature uses an alpha cut-off of 5% (0.05) -- indicating a 5% chance that a significant difference is actually due to chance and is not a true difference.\n",
    "\n",
    "Beta: The probability of a type-II error -- not detecting a difference when one actually exists. Beta is directly related to study power (Power = 1 - β). Most medical literature uses a beta cut-off of 20% (0.2) -- indicating a 20% chance that a significant difference is missed.\n",
    "\n",
    "<img src=\"https://i.ytimg.com/vi/0R5Zscd_Mp8/maxresdefault.jpg\">"
   ]
  },
  {
   "cell_type": "code",
   "execution_count": 39,
   "metadata": {},
   "outputs": [
    {
     "data": {
      "text/plain": [
       "1.6448536269514722"
      ]
     },
     "execution_count": 39,
     "metadata": {},
     "output_type": "execute_result"
    }
   ],
   "source": [
    "#from scipy.stats import norm\n",
    "#p=.95\n",
    "#norm.ppf(p)"
   ]
  }
 ],
 "metadata": {
  "kernelspec": {
   "display_name": "Python 3",
   "language": "python",
   "name": "python3"
  },
  "language_info": {
   "codemirror_mode": {
    "name": "ipython",
    "version": 3
   },
   "file_extension": ".py",
   "mimetype": "text/x-python",
   "name": "python",
   "nbconvert_exporter": "python",
   "pygments_lexer": "ipython3",
   "version": "3.6.3"
  }
 },
 "nbformat": 4,
 "nbformat_minor": 2
}
